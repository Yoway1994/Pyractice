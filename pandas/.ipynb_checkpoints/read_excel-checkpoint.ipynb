{
 "cells": [
  {
   "cell_type": "code",
   "execution_count": 16,
   "metadata": {},
   "outputs": [],
   "source": [
    "import pandas as pd\n",
    "import os"
   ]
  },
  {
   "cell_type": "markdown",
   "metadata": {},
   "source": [
    "改變一下路徑去抓我們想要的excel檔"
   ]
  },
  {
   "cell_type": "code",
   "execution_count": 17,
   "metadata": {},
   "outputs": [
    {
     "name": "stdout",
     "output_type": "stream",
     "text": [
      "['190114-1', '190114-2', '190114-3', '190115-1', '190121-1', '190121-2', '190122-1', '190122-4', 'Defect1.bmp', 'Defect2.bmp', 'Defect3.bmp', 'Defect4.bmp', 'Defect5.bmp', 'Defect6.bmp', '裸光纖量測資料.xlsx']\n",
      "        ASE       RsP  ASE.1    RsP.1\n",
      "25     21.6    0.0182   14.7    0.024\n",
      "60     51.3    0.0578   37.2    0.118\n",
      "120    97.7    0.1670   73.6    0.765\n",
      "204   153.3    0.4950  116.8    3.700\n",
      "305   221.4    1.6400  162.6   13.600\n",
      "430   288.0    5.1000  202.5   32.600\n",
      "565   358.0   12.7000  232.4   62.000\n",
      "710   411.0   27.0000  258.0   97.700\n",
      "865   458.0   45.5000  277.0  142.000\n",
      "1010  493.0   67.6000  293.0  185.000\n",
      "1160  518.0   87.0000  305.0  231.000\n",
      "1310  520.0  105.0000  316.0  272.000\n",
      "1440  530.0  111.0000  323.0  310.000\n",
      "1550  536.0  122.0000  330.0  342.000\n",
      "1640  543.0  132.0000  335.0  368.000\n",
      "1725  545.0  138.0000  338.0  387.000\n",
      "1760  547.0  142.0000  340.0  398.000\n"
     ]
    }
   ],
   "source": [
    "path = r'D:\\desktop\\高濃度晶纖'\n",
    "os.chdir(path)\n",
    "print(os.listdir())\n",
    "test = pd.read_excel('裸光纖量測資料.xlsx', sheet_name = 0)\n",
    "print(test)"
   ]
  },
  {
   "cell_type": "markdown",
   "metadata": {},
   "source": [
    "配合 pandas 擷取資料可以直接畫出圖表"
   ]
  },
  {
   "cell_type": "code",
   "execution_count": 18,
   "metadata": {},
   "outputs": [
    {
     "data": {
      "image/png": "[encoded data removed]",
      "text/plain": [
       "<Figure size 432x288 with 1 Axes>"
      ]
     },
     "metadata": {
      "needs_background": "light"
     },
     "output_type": "display_data"
    }
   ],
   "source": [
    "import matplotlib.pyplot as plt\n",
    "plt.plot(test.index, test['ASE'])\n",
    "plt.show()"
   ]
  },
  {
   "cell_type": "markdown",
   "metadata": {},
   "source": [
    "擷取其他表單的資料"
   ]
  },
  {
   "cell_type": "code",
   "execution_count": null,
   "metadata": {},
   "outputs": [],
   "source": []
  }
 ],
 "metadata": {
  "kernelspec": {
   "display_name": "Python 3",
   "language": "python",
   "name": "python3"
  },
  "language_info": {
   "codemirror_mode": {
    "name": "ipython",
    "version": 3
   },
   "file_extension": ".py",
   "mimetype": "text/x-python",
   "name": "python",
   "nbconvert_exporter": "python",
   "pygments_lexer": "ipython3",
   "version": "3.7.0"
  }
 },
 "nbformat": 4,
 "nbformat_minor": 2
}
