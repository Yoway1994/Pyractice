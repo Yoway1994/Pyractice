{
 "cells": [
  {
   "cell_type": "code",
   "execution_count": null,
   "metadata": {},
   "outputs": [],
   "source": [
    "BeautifulSoup功能在於將html語法解析成python可用之功能，在這裡介紹其中一個功能 tag\n",
    "\n",
    "tag基本上延續html的功能，可以找到<>標籤包覆的對象，好比說有個段落被<p>...</p>包住，\n",
    "\n",
    "我們可以稱這個tag為p標籤，便可以用BS來簡單擷取這個標籤，\n",
    "\n",
    "paragraph = soup.p\n",
    "\n",
    "甚至在多個樹狀標籤結構下也可以找出來，\n",
    "\n",
    "<html>\n",
    "    <body>\n",
    "        <p> ....... </p>\n",
    "    </body>\n",
    "</html>\n",
    "\n",
    "paragraph = soup.html.body.p\n",
    "\n",
    "當你取得tag之後，你可以把它分成兩部分擷取出來，分別是 'name' 和 'string'\n",
    "\n",
    "from bs4 import BeautifulSoup\n",
    "from urllib.request import urlopen\n",
    "\n",
    "web = urlopen('https://www.google.com.tw').read().decode('utf-8', 'ignore')\n",
    "soup = BeautifulSoup(web, 'html.parser')\n",
    "\n",
    "print(soup.title.string)\n",
    "print(soup.title.name)\n",
    "\n",
    ">>>\n",
    "Google\n",
    "title\n",
    "\n",
    "這裡用google的網站作範例，name返回標籤的名子，string返回標籤中間的字詞。\n",
    "\n"
   ]
  }
 ],
 "metadata": {
  "kernelspec": {
   "display_name": "Python 3",
   "language": "python",
   "name": "python3"
  },
  "language_info": {
   "codemirror_mode": {
    "name": "ipython",
    "version": 3
   },
   "file_extension": ".py",
   "mimetype": "text/x-python",
   "name": "python",
   "nbconvert_exporter": "python",
   "pygments_lexer": "ipython3",
   "version": "3.7.0"
  }
 },
 "nbformat": 4,
 "nbformat_minor": 2
}
