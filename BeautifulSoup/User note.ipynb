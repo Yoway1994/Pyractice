{
 "cells": [
  {
   "cell_type": "markdown",
   "metadata": {},
   "source": [
    "2018/11/14\n",
    "\n",
    "官方中文網站https://www.crummy.com/software/BeautifulSoup/bs4/doc.zh/\n",
    "\n",
    "BeaurtifulSoup是一個需要外部安裝的模組，記得加個四，可能是ver.4\n",
    "\n",
    "python -m pip install beautifulsoup4"
   ]
  },
  {
   "cell_type": "code",
   "execution_count": 6,
   "metadata": {},
   "outputs": [],
   "source": [
    "from bs4 import BeautifulSoup\n",
    "from urllib.request import urlopen"
   ]
  },
  {
   "cell_type": "markdown",
   "metadata": {},
   "source": [
    "接著我們把用urlopen的網頁餵給bs，"
   ]
  },
  {
   "cell_type": "code",
   "execution_count": 7,
   "metadata": {},
   "outputs": [],
   "source": [
    "web = urlopen('https://www.google.com.tw').read().decode('utf-8','ignore')\n",
    "soup = BeautifulSoup(web, features = 'html.parser')"
   ]
  },
  {
   "cell_type": "markdown",
   "metadata": {},
   "source": [
    "後面的features是parser，解析器的種類，可參考官網，在這裡我用的是python內建的標準庫。\n",
    "\n",
    "我們之前在urllib 模組使用筆記嘗試過用正則表達式找出所有網址，在這裡我們同樣試試看，"
   ]
  },
  {
   "cell_type": "code",
   "execution_count": 9,
   "metadata": {},
   "outputs": [
    {
     "name": "stdout",
     "output_type": "stream",
     "text": [
      "[<a class=\"gb1\" href=\"https://www.google.com.tw/imghp?hl=zh-TW&amp;tab=wi\">Ϥ</a>, <a class=\"gb1\" href=\"https://maps.google.com.tw/maps?hl=zh-TW&amp;tab=wl\">a</a>, <a class=\"gb1\" href=\"https://play.google.com/?hl=zh-TW&amp;tab=w8\">Play</a>, <a class=\"gb1\" href=\"https://www.youtube.com/?gl=TW&amp;tab=w1\">YouTube</a>, <a class=\"gb1\" href=\"https://news.google.com.tw/nwshp?hl=zh-TW&amp;tab=wn\">sD</a>, <a class=\"gb1\" href=\"https://mail.google.com/mail/?tab=wm\">Gmail</a>, <a class=\"gb1\" href=\"https://drive.google.com/?tab=wo\">ݵw</a>, <a class=\"gb1\" href=\"https://www.google.com.tw/intl/zh-TW/about/products?tab=wh\" style=\"text-decoration:none\"><u>h</u> »</a>, <a class=\"gb4\" href=\"http://www.google.com.tw/history/optout?hl=zh-TW\">O</a>, <a class=\"gb4\" href=\"/preferences?hl=zh-TW\">]w</a>, <a class=\"gb4\" href=\"https://accounts.google.com/ServiceLogin?hl=zh-TW&amp;passive=true&amp;continue=https://www.google.com.tw/\" id=\"gb_70\" target=\"_top\">nJ</a>, <a href=\"/advanced_search?hl=zh-TW&amp;authuser=0\">ijM</a>, <a href=\"/language_tools?hl=zh-TW&amp;authuser=0\">yu</a>, <a href=\"/intl/zh-TW/ads/\">siA</a>, <a href=\"http://www.google.com.tw/intl/zh-TW/services/\">ӷ~ѨM</a>, <a href=\"/intl/zh-TW/about.html\">Google U</a>, <a href=\"https://www.google.com.tw/setprefdomain?prefdom=US&amp;sig=K_TCNxbNzZxCZ1g6EzxxIK2xMhfNA%3D\" id=\"fehl\">Google.com</a>, <a href=\"/intl/zh-TW/policies/privacy/\">pv</a>, <a href=\"/intl/zh-TW/policies/terms/\">Aȱ</a>]\n"
     ]
    }
   ],
   "source": [
    "all_href = soup.find_all('a')\n",
    "print(all_href)"
   ]
  },
  {
   "cell_type": "markdown",
   "metadata": {},
   "source": [
    "我們把所有含有'a' 標籤 BeautifulSoup.tag 的網頁內容抓了出來，但這還不是純網址，\n",
    "\n",
    "BS4在取得tag之後，其tag有很多屬性attributes'可以比照字典一樣把屬性抓出來，下面先舉例。"
   ]
  },
  {
   "cell_type": "code",
   "execution_count": 12,
   "metadata": {},
   "outputs": [
    {
     "name": "stdout",
     "output_type": "stream",
     "text": [
      "{'class': ['gb1'], 'href': 'https://www.google.com.tw/imghp?hl=zh-TW&tab=wi'}\n",
      "<class 'dict'>\n"
     ]
    }
   ],
   "source": [
    "from bs4 import BeautifulSoup\n",
    "from urllib.request import urlopen\n",
    "\n",
    "web = urlopen('https://www.google.com.tw').read().decode('utf-8', 'ignore')\n",
    "soup = BeautifulSoup(web, 'html.parser')\n",
    "print(soup.a.attrs)\n",
    "print(type(soup.a.attrs))"
   ]
  },
  {
   "cell_type": "markdown",
   "metadata": {},
   "source": [
    "我用 soup.a 抓取了第一個 a 標籤，然後print出他的屬性，同時你可以看到它的分類是字典。\n",
    "\n",
    "接著用find_all把所有tag抓出來，而每個tag都有屬性，我們就可以根據這個屬性的key去找出value，"
   ]
  },
  {
   "cell_type": "code",
   "execution_count": 13,
   "metadata": {},
   "outputs": [
    {
     "name": "stdout",
     "output_type": "stream",
     "text": [
      "['https://www.google.com.tw/imghp?hl=zh-TW&tab=wi', 'https://maps.google.com.tw/maps?hl=zh-TW&tab=wl', 'https://play.google.com/?hl=zh-TW&tab=w8', 'https://www.youtube.com/?gl=TW&tab=w1', 'https://news.google.com.tw/nwshp?hl=zh-TW&tab=wn', 'https://mail.google.com/mail/?tab=wm', 'https://drive.google.com/?tab=wo', 'https://www.google.com.tw/intl/zh-TW/about/products?tab=wh', 'http://www.google.com.tw/history/optout?hl=zh-TW', '/preferences?hl=zh-TW', 'https://accounts.google.com/ServiceLogin?hl=zh-TW&passive=true&continue=https://www.google.com.tw/', '/advanced_search?hl=zh-TW&authuser=0', '/language_tools?hl=zh-TW&authuser=0', '/intl/zh-TW/ads/', 'http://www.google.com.tw/intl/zh-TW/services/', '/intl/zh-TW/about.html', 'https://www.google.com.tw/setprefdomain?prefdom=US&sig=K_Fa1IBpMlvFh4rJ6UpGDbKnLmS9E%3D', '/intl/zh-TW/policies/privacy/', '/intl/zh-TW/policies/terms/']\n"
     ]
    }
   ],
   "source": [
    "all_href = soup.find_all('a')\n",
    "all_href = [i['href'] for i in all_href]\n",
    "print(all_href)"
   ]
  },
  {
   "cell_type": "markdown",
   "metadata": {},
   "source": [
    "接著我們要來說明一下爬蟲中一個很好的指標，CSS(Cascading Style Sheets)。\n",
    "\n",
    "CSS是用來增加網頁的豐富度，好比說標題類別的就要套用 class = title，\n",
    "\n",
    "依此類推，每個要顯示出來的東西都有一個class，這個class可以成為我們很好的爬蟲指標。\n",
    "\n",
    "以剛剛的google搜尋網頁為例，我選取特定class : gb1"
   ]
  },
  {
   "cell_type": "code",
   "execution_count": 14,
   "metadata": {},
   "outputs": [
    {
     "name": "stdout",
     "output_type": "stream",
     "text": [
      "['https://www.google.com.tw/imghp?hl=zh-TW&tab=wi', 'https://maps.google.com.tw/maps?hl=zh-TW&tab=wl', 'https://play.google.com/?hl=zh-TW&tab=w8', 'https://www.youtube.com/?gl=TW&tab=w1', 'https://news.google.com.tw/nwshp?hl=zh-TW&tab=wn', 'https://mail.google.com/mail/?tab=wm', 'https://drive.google.com/?tab=wo', 'https://www.google.com.tw/intl/zh-TW/about/products?tab=wh']\n"
     ]
    }
   ],
   "source": [
    "all_href = soup.find_all('a', {'class': 'gb1'})    \n",
    "all_href = [i['href'] for i in all_href]\n",
    "print(all_href)"
   ]
  },
  {
   "cell_type": "markdown",
   "metadata": {},
   "source": [
    "更進一步可以用正則表達式 re.compile 去篩選網址內容，好比說我要從這八個網址找出含有，'tw'字眼的，\n",
    "\n",
    "我就可以設定一個正則表達式為，\n",
    "\n",
    "tw = re.compile()"
   ]
  }
 ],
 "metadata": {
  "kernelspec": {
   "display_name": "Python 3",
   "language": "python",
   "name": "python3"
  },
  "language_info": {
   "codemirror_mode": {
    "name": "ipython",
    "version": 3
   },
   "file_extension": ".py",
   "mimetype": "text/x-python",
   "name": "python",
   "nbconvert_exporter": "python",
   "pygments_lexer": "ipython3",
   "version": "3.7.0"
  }
 },
 "nbformat": 4,
 "nbformat_minor": 2
}
