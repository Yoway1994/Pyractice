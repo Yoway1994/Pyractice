{
 "cells": [
  {
   "cell_type": "code",
   "execution_count": null,
   "metadata": {},
   "outputs": [],
   "source": [
    "相較於search只會搜尋第一個發現的字符串，我們用findall語法去可以找出所有匹配的字符，\n",
    "\n",
    "import re\n",
    "string = 'I say run run ruuuuuuuun'\n",
    "p1 = 'ru+n'\n",
    "\n",
    "print(re.findall(p1, string))\n",
    "\n",
    ">>>\n",
    "['run', 'run', 'ruuuuuuuun']\n",
    "\n",
    "但就不會顯示該字符串位置了，也可以用 ' | ' 這個符號來表示或者 'or' 來搜尋字符。\n",
    "\n",
    "import re\n",
    "string = 'Do you like apple? or orange?'\n",
    "p1 = '(apple|orange)'\n",
    "\n",
    "print(re.findall(p1, string))\n",
    "\n",
    ">>>\n",
    "['apple', 'orange']\n",
    "\n",
    "那它跟中括號差在哪裡呢? 你可以看看下面這個比較，\n",
    "\n",
    "p1 = 'li(v|f)e'\n",
    "p2 = 'li[vf]e'\n",
    "string = 'live one life' \n",
    "\n",
    "print(re.findall(p1, string))\n",
    "print(re.findall(p2, string))\n",
    "\n",
    ">>>\n",
    "['v', 'f']\n",
    "['live', 'life']\n",
    "\n",
    "一個只有匹配出括號內的，一個則是把整個字符串匹配出來了。\n",
    "\n",
    "\n"
   ]
  }
 ],
 "metadata": {
  "kernelspec": {
   "display_name": "Python 3",
   "language": "python",
   "name": "python3"
  },
  "language_info": {
   "codemirror_mode": {
    "name": "ipython",
    "version": 3
   },
   "file_extension": ".py",
   "mimetype": "text/x-python",
   "name": "python",
   "nbconvert_exporter": "python",
   "pygments_lexer": "ipython3",
   "version": "3.7.0"
  }
 },
 "nbformat": 4,
 "nbformat_minor": 2
}
