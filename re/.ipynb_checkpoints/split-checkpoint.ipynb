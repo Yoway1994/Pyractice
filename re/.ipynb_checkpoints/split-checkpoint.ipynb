{
 "cells": [
  {
   "cell_type": "code",
   "execution_count": null,
   "metadata": {},
   "outputs": [],
   "source": [
    "如果我們有一串字符，被多種符號分隔，可以用split來幫我們匹配，並區隔成一串清單\n",
    "\n",
    "string = 'Date:2018/11/11,name:Wyne'\n",
    "p1 = '[:/,]'\n",
    "\n",
    "print(re.split(p1, string))\n",
    "\n",
    ">>>\n",
    "['Date', '2018', '11', '11', 'name', 'Wyne']\n"
   ]
  }
 ],
 "metadata": {
  "kernelspec": {
   "display_name": "Python 3",
   "language": "python",
   "name": "python3"
  },
  "language_info": {
   "codemirror_mode": {
    "name": "ipython",
    "version": 3
   },
   "file_extension": ".py",
   "mimetype": "text/x-python",
   "name": "python",
   "nbconvert_exporter": "python",
   "pygments_lexer": "ipython3",
   "version": "3.7.0"
  }
 },
 "nbformat": 4,
 "nbformat_minor": 2
}
