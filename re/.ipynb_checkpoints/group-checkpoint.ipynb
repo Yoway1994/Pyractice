{
 "cells": [
  {
   "cell_type": "markdown",
   "metadata": {},
   "source": [
    "在 re.search 裡面我們已經知道用反斜槓轉義，去匹配我們想要的字符串，\n",
    "\n",
    "但如果要分別多組字符串呢，我需要用括號為它們分組，並使用group語法。\n",
    "\n",
    "account = 'NT$: 100, Date: 2018/11/11'\n",
    "\n",
    "好比說上方的這樣一個帳戶包含兩筆數字，金額和日期，我們都想分別匹配，\n",
    "\n",
    "這時候得幫用來搜尋的pattern分組，\n",
    "\n",
    "p1 = 'NT$: (\\d+)', Date: (.*)'\n",
    "\n",
    "你可以看到我分別用括號分出了兩組，並各自用適當的轉義符去匹配，並嘗試運行看看，"
   ]
  },
  {
   "cell_type": "code",
   "execution_count": 1,
   "metadata": {},
   "outputs": [
    {
     "name": "stdout",
     "output_type": "stream",
     "text": [
      "<re.Match object; span=(0, 26), match='NT$: 100, Date: 2018/11/11'>\n"
     ]
    }
   ],
   "source": [
    "import re\n",
    "account = 'NT$: 100, Date: 2018/11/11'\n",
    "p1 = 'NT\\$: (\\d+), Date: (.*)'\n",
    "\n",
    "data = re.search(p1, account)\n",
    "print(data)"
   ]
  },
  {
   "cell_type": "markdown",
   "metadata": {},
   "source": [
    "為了匹配 '$' 這個符號，我用使用了 '\\$' ，不然 '$' 的意思是，該字符在句尾。\n",
    "\n",
    "我們成功匹配了字符串，接著我們要用法group語法，一組一組個別抓出這些被分組的字符串，"
   ]
  },
  {
   "cell_type": "code",
   "execution_count": null,
   "metadata": {},
   "outputs": [],
   "source": [
    "import re\n",
    "account = 'NT$: 100, Date: 2018/11/11'\n",
    "p1 = 'NT\\$: (\\d+), Date: (.*)'\n",
    "\n",
    "data = re.search(p1, account)\n",
    "\n",
    "print(data.group())\n",
    "print(data.group(1))\n",
    "print(data.group(2))\n",
    "\n",
    ">>>\n",
    "NT$: 100, Date: 2018/11/11\n",
    "100\n",
    "2018/11/11\n",
    "\n",
    "不輸入數字就是pattern本身，輸入數字1的話就是第一個括號的字符，依此類推。\n",
    "\n",
    "但用數字容易搞混，所以我們可以替這些group命名，\n",
    "\n",
    "p1 = 'NT\\$: (?P<NT>\\d+), Date: (?P<date>.*)'\n",
    "\n",
    "在括號內加上 ?P< >  就可以命名了。\n",
    "\n",
    "import re\n",
    "account = 'NT$: 100, Date: 2018/11/11'\n",
    "p1 = 'NT\\$: (?P<NT>\\d+), Date: (?P<date>.*)'\n",
    "\n",
    "data = re.search(p1, account)\n",
    "\n",
    "print(data.group(NT))\n",
    "print(data.group(date))\n",
    "\n",
    ">>>\n",
    "100\n",
    "2018/11/11"
   ]
  }
 ],
 "metadata": {
  "kernelspec": {
   "display_name": "Python 3",
   "language": "python",
   "name": "python3"
  },
  "language_info": {
   "codemirror_mode": {
    "name": "ipython",
    "version": 3
   },
   "file_extension": ".py",
   "mimetype": "text/x-python",
   "name": "python",
   "nbconvert_exporter": "python",
   "pygments_lexer": "ipython3",
   "version": "3.7.0"
  }
 },
 "nbformat": 4,
 "nbformat_minor": 2
}
