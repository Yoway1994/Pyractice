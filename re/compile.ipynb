{
 "cells": [
  {
   "cell_type": "code",
   "execution_count": null,
   "metadata": {},
   "outputs": [],
   "source": [
    "在一開始基礎的方法中，我們都是直接指定一個字串當作pattern，\n",
    "\n",
    "而compile就是設定這個pattern的一個語法，\n",
    "\n",
    "pattern = re.compile('string', flags = 0)\n",
    "\n",
    "在編輯一些較複雜的正則表達式時，會是一個不錯的工具。\n",
    "\n",
    "後面的 flags 表示pattern所要設定的模式。\n",
    "re.I\n",
    "(INGNORECASE)\n",
    "忽略大小寫\n",
    "re.M\n",
    "(MULTILINE)\n",
    "設定為多行模式\n",
    "re.S\n",
    "(DOTALL)\n",
    "使 '.' 包括換行符 '\\n'\n",
    "re.L\n",
    "(LOCALE)\n",
    "使特殊字符集'\\w, \\W, \\b, \\B, \\s, \\S, \\d, \\D' 取決於當前環境\n",
    "re.U\n",
    "(UNICODE)\n",
    "使特殊字符集'\\w, \\W, \\b, \\B, \\s, \\S, \\d, \\D' 取決Unicode環境\n",
    "re.X\n",
    "(VERBOSE)\n",
    "忽略空白字符和#後的註釋\n",
    "\n",
    " "
   ]
  }
 ],
 "metadata": {
  "kernelspec": {
   "display_name": "Python 3",
   "language": "python",
   "name": "python3"
  },
  "language_info": {
   "codemirror_mode": {
    "name": "ipython",
    "version": 3
   },
   "file_extension": ".py",
   "mimetype": "text/x-python",
   "name": "python",
   "nbconvert_exporter": "python",
   "pygments_lexer": "ipython3",
   "version": "3.7.0"
  }
 },
 "nbformat": 4,
 "nbformat_minor": 2
}
