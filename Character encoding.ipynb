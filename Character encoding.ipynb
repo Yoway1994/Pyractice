{
 "cells": [
  {
   "cell_type": "code",
   "execution_count": null,
   "metadata": {},
   "outputs": [],
   "source": [
    "ASCII 全名 American Standard Code for Information Interchange\n",
    "主要從 0000 0000 ~ 1111 1111 進行編碼，共可編輯256個符號。\n",
    "\n",
    "但是對於英文使用者來說，僅僅只要0000 0000 ~ 0111 1111共128個便已夠用。\n",
    "\n",
    "\n",
    "UTF-8"
   ]
  }
 ],
 "metadata": {
  "kernelspec": {
   "display_name": "Python 3",
   "language": "python",
   "name": "python3"
  },
  "language_info": {
   "codemirror_mode": {
    "name": "ipython",
    "version": 3
   },
   "file_extension": ".py",
   "mimetype": "text/x-python",
   "name": "python",
   "nbconvert_exporter": "python",
   "pygments_lexer": "ipython3",
   "version": "3.7.0"
  }
 },
 "nbformat": 4,
 "nbformat_minor": 2
}
