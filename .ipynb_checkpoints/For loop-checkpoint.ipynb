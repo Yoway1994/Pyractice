{
 "cells": [
  {
   "cell_type": "code",
   "execution_count": null,
   "metadata": {},
   "outputs": [],
   "source": [
    "for 是個計數器的概念，可以重複執行一段code數次，\n",
    "\n",
    "runs = range(0, 100)\n",
    "for i in runs\n",
    "    print(i)"
   ]
  },
  {
   "cell_type": "markdown",
   "metadata": {},
   "source": [
    "其實就把 list 的第一項用 i 這個變數代替，run下面的程式碼一遍，再換list第二項帶入，依此類推。\n",
    "\n",
    "有個快速的寫法可以把結果整理在一張list裡面\n",
    "\n",
    "稱為 list 解析式"
   ]
  },
  {
   "cell_type": "code",
   "execution_count": null,
   "metadata": {},
   "outputs": [],
   "source": [
    "list = [i for i in runs] "
   ]
  }
 ],
 "metadata": {
  "kernelspec": {
   "display_name": "Python 3",
   "language": "python",
   "name": "python3"
  },
  "language_info": {
   "codemirror_mode": {
    "name": "ipython",
    "version": 3
   },
   "file_extension": ".py",
   "mimetype": "text/x-python",
   "name": "python",
   "nbconvert_exporter": "python",
   "pygments_lexer": "ipython3",
   "version": "3.7.0"
  }
 },
 "nbformat": 4,
 "nbformat_minor": 2
}
