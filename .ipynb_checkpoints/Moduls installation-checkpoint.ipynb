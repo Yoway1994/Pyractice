{
 "cells": [
  {
   "cell_type": "code",
   "execution_count": null,
   "metadata": {},
   "outputs": [],
   "source": [
    "首先你可以用 Windows PowerShell直接輸入:\n",
    "\n",
    "python -m pip install moduls(該模組名稱)\n",
    "\n",
    "或者使用CMD命令提示字元:\n",
    "\n",
    "先將路徑切換到pip模組所在位置\n",
    "\n",
    "cd /d C:\\Python27\\Scripts\n",
    "\n",
    "然後直接輸入 pip install moduls(模組)\n",
    "\n",
    "模組名稱也可更換為wheel安裝檔\n",
    "\n",
    "pip install _____.whl \n"
   ]
  }
 ],
 "metadata": {
  "kernelspec": {
   "display_name": "Python 3",
   "language": "python",
   "name": "python3"
  },
  "language_info": {
   "codemirror_mode": {
    "name": "ipython",
    "version": 3
   },
   "file_extension": ".py",
   "mimetype": "text/x-python",
   "name": "python",
   "nbconvert_exporter": "python",
   "pygments_lexer": "ipython3",
   "version": "3.7.0"
  }
 },
 "nbformat": 4,
 "nbformat_minor": 2
}
