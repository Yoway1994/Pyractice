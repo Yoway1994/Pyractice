{
 "cells": [
  {
   "cell_type": "code",
   "execution_count": null,
   "metadata": {},
   "outputs": [],
   "source": [
    "'\\b'的轉義是 Backspace，也就是倒退鍵。\n",
    "\n",
    "print('back space')\n",
    "\n",
    ">>> back space\n",
    "\n",
    "print('back \\bspace')\n",
    "\n",
    ">>> backspace\n",
    "\n",
    "注意如果最後面沒有其他字元，則不會有倒退作用，\n",
    "\n",
    "但就算是空格也能讓 '\\b' 發揮作用\n",
    "\n",
    "print('back space\\b')\n",
    "\n",
    ">>> back space\n",
    "\n",
    "print('back space\\b ')\n",
    "\n",
    ">>> back spac\n",
    "\n"
   ]
  }
 ],
 "metadata": {
  "kernelspec": {
   "display_name": "Python 3",
   "language": "python",
   "name": "python3"
  },
  "language_info": {
   "codemirror_mode": {
    "name": "ipython",
    "version": 3
   },
   "file_extension": ".py",
   "mimetype": "text/x-python",
   "name": "python",
   "nbconvert_exporter": "python",
   "pygments_lexer": "ipython3",
   "version": "3.7.0"
  }
 },
 "nbformat": 4,
 "nbformat_minor": 2
}
