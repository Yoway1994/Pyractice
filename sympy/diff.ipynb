{
 "cells": [
  {
   "cell_type": "code",
   "execution_count": null,
   "metadata": {},
   "outputs": [],
   "source": [
    "sympy裡面，用diff語法可以進行微分運算，像是\n",
    "\n",
    "diff(x**2,x)\n",
    "\n",
    ">>> 2*x\n",
    "\n",
    "第一項是我們要微分的方程，第二項則是微分的對象，也可以用另一種寫法\n",
    "\n",
    "y = x**2\n",
    "y.diff(x)\n",
    "\n",
    ">>> 2*x\n",
    "\n",
    "如果要進行二次以上的微分可以在後面多增加一項數字\n",
    "\n",
    "y = x*5\n",
    "y.diff(x, 3)\n",
    "\n",
    ">>> 60*x**2\n",
    "\n",
    "可以得到三階導函數，亦或者多打幾個變數也代表同樣的效果\n",
    "\n",
    "y = x*5\n",
    "y.diff(x, x, x)\n",
    "\n",
    ">>> 60*x**2\n",
    "\n",
    "最後我們綜合兩個方法嘗試連續微分\n",
    "\n",
    "z = x**4*y**3 + x**3*y**4\n",
    "z.diff(x, 2, y, 2)\n",
    "\n",
    ">>> 72*x*y(x+y)\n"
   ]
  }
 ],
 "metadata": {
  "kernelspec": {
   "display_name": "Python 3",
   "language": "python",
   "name": "python3"
  },
  "language_info": {
   "codemirror_mode": {
    "name": "ipython",
    "version": 3
   },
   "file_extension": ".py",
   "mimetype": "text/x-python",
   "name": "python",
   "nbconvert_exporter": "python",
   "pygments_lexer": "ipython3",
   "version": "3.7.0"
  }
 },
 "nbformat": 4,
 "nbformat_minor": 2
}
