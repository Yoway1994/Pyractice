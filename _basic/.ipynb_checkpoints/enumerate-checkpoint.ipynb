{
 "cells": [
  {
   "cell_type": "code",
   "execution_count": null,
   "metadata": {},
   "outputs": [],
   "source": [
    "enumerate為列舉的意思，我們可以用這個函數來窮舉對象(list, tuple... etc.)。\n",
    "\n",
    "我們先嘗試不用這個語法來列舉一個列表,\n",
    "\n",
    "list = ['a','b','c']\n",
    "i = 0\n",
    "for v in list:\n",
    "    print(i, v)\n",
    "    i += 1\n",
    "    \n",
    ">>>\n",
    "0 a\n",
    "1 b\n",
    "2 c\n",
    "\n",
    "在看過之後，我們用enumerate可以實現相同的功能，\n",
    "\n",
    "list = ['a','b','c']\n",
    "\n",
    "for i, v in enumerate(list)\n",
    "    print(i, v)\n",
    "\n",
    ">>>\n",
    "0 a\n",
    "1 b\n",
    "2 c\n",
    "\n",
    "另外可以增加一個變數表示編號起始值，\n",
    "\n",
    "for i, v in enumerate(list, 10)\n",
    "    print(i, v)\n",
    "\n",
    ">>>\n",
    "10 a\n",
    "11 b\n",
    "12 c\n"
   ]
  }
 ],
 "metadata": {
  "kernelspec": {
   "display_name": "Python 3",
   "language": "python",
   "name": "python3"
  },
  "language_info": {
   "codemirror_mode": {
    "name": "ipython",
    "version": 3
   },
   "file_extension": ".py",
   "mimetype": "text/x-python",
   "name": "python",
   "nbconvert_exporter": "python",
   "pygments_lexer": "ipython3",
   "version": "3.7.0"
  }
 },
 "nbformat": 4,
 "nbformat_minor": 2
}
