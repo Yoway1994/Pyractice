{
 "cells": [
  {
   "cell_type": "code",
   "execution_count": null,
   "metadata": {},
   "outputs": [],
   "source": [
    "最初在Learn python the hard way裡面，我在exercise1 print就遇到問題，要如何才能print中文?\n",
    "\n",
    "如果你只是單純讀取一個.py檔，那顯示訊息將會是，\n",
    "\n",
    "print('中文')\n",
    "\n",
    ">>>  \n",
    " File \"print.py\", line 1\n",
    "SyntaxError: Non-ASCII character '\\xe4' in file print.py on line 1, but no encoding declared; see http://python.org/dev/peps/pep-0263/ for details\n",
    "\n",
    "你會注意到中間有一段 \"Non-ASCII character\"，所以先在開頭增加一行 # coding: utf-8，告訴它換個編碼方法，\n",
    "\n",
    "# coding: utf-8\n",
    "print('中文')\n",
    "\n",
    ">>>\n",
    "銝剜?Traceback (most recent call last):\n",
    "  File \"print.py\", line 2, in <module>\n",
    "    print('銝剜?')\n",
    "IOError: [Errno 2] No such file or directory\n",
    "\n",
    "但你發現還是有error，這時候在字串前再增加一個 u 上去，告訴它連解碼方法也要一起換，\n",
    "\n",
    "# coding: utf-8\n",
    "print(u'中文')\n",
    "\n",
    ">>> 中文\n",
    "\n",
    "以上這些問題我只有在python2遇到，這是因為所使用編碼方式不同所造成的error\n",
    "\n",
    "但在python3就沒有遇到這個問題，這是因為python3的默認編碼已經從ACSII改成UTF-8了。\n",
    "\n",
    "可以用下面這行程式來查看預設編碼，會發現在 python2 和 python3 運行會得到不同結果。\n",
    "\n",
    "import sys\n",
    "print(getdefaultencoding())\n",
    "\n",
    "所以對於任意字串，不論有沒有進行print，python一開始是先將字串進行編碼，\n",
    "\n",
    "我們在 python2 運行一下，'中文' 這個字串的utf-8編碼長甚麼樣。\n",
    "\n",
    "# coding: utf-8\n",
    "print '%r' % '中文'\n",
    "\n",
    ">>> '\\xe4\\xb8\\xad\\xe6\\x96\\x87'\n",
    "\n",
    "在第一個範例中，它告訴了你'\\xe4' 不在ASCII的編碼範圍裡面，已經超出了原有的128個編碼(\\x80)所以才顯示錯誤訊息。\n",
    "\n",
    "第二個範例是因為雖然我們已經用utf-8去對該字串進行編碼，但是解碼則是用ANSI去解碼，那當然解出來的會是亂碼。\n",
    "\n",
    "雖說是亂碼，但如果對它用ANSI編碼，再用utf-8解碼，仍然會得到原來的字串 '中文'。\n",
    "\n",
    "所以最後在第三個範例中，我們告訴了python2，後面的字串一律用utf-8進行編碼，\n",
    "\n",
    "然後再字串前加個 u 告訴它，這個字串要用utf-8解碼再print出來，才終於在python2得到一個正確的結果。\n"
   ]
  }
 ],
 "metadata": {
  "kernelspec": {
   "display_name": "Python 3",
   "language": "python",
   "name": "python3"
  },
  "language_info": {
   "codemirror_mode": {
    "name": "ipython",
    "version": 3
   },
   "file_extension": ".py",
   "mimetype": "text/x-python",
   "name": "python",
   "nbconvert_exporter": "python",
   "pygments_lexer": "ipython3",
   "version": "3.7.0"
  }
 },
 "nbformat": 4,
 "nbformat_minor": 2
}
