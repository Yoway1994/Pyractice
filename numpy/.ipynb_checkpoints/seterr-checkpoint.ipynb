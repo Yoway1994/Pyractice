{
 "cells": [
  {
   "cell_type": "code",
   "execution_count": null,
   "metadata": {},
   "outputs": [],
   "source": [
    "https://docs.scipy.org/doc/numpy-1.15.0/reference/generated/numpy.seterr.html\n",
    "\n",
    "在處理numpy的數學運算時候，有時候會有一些狀況，\n",
    "\n",
    "像是之前在處理log時候，就遇到了 RuntimeWarning: divide by zero encountered in log，\n",
    "\n",
    "這表示在進行log時，可能有個數字過小被當成0，這時候可以set error告訴它遇到這情況怎麼辦\n",
    "\n",
    "numpy.seterr(divide = 'ignore')\n",
    "\n",
    "我只是求快，所以我就直接忽略了。\n",
    "\n",
    "\n",
    "\n",
    "\n"
   ]
  }
 ],
 "metadata": {
  "kernelspec": {
   "display_name": "Python 3",
   "language": "python",
   "name": "python3"
  },
  "language_info": {
   "codemirror_mode": {
    "name": "ipython",
    "version": 3
   },
   "file_extension": ".py",
   "mimetype": "text/x-python",
   "name": "python",
   "nbconvert_exporter": "python",
   "pygments_lexer": "ipython3",
   "version": "3.7.0"
  }
 },
 "nbformat": 4,
 "nbformat_minor": 2
}
