{
 "cells": [
  {
   "cell_type": "markdown",
   "metadata": {},
   "source": [
    "2018/12/16\n",
    "\n",
    "之前成功描繪頻譜圖之後，這次目的主要是同時處理數百張頻譜圖，所以想要找個方法大量開啟資料。\n",
    "\n",
    "首先我們import這個模組，並檢視一下路徑位置，"
   ]
  },
  {
   "cell_type": "code",
   "execution_count": 1,
   "metadata": {},
   "outputs": [
    {
     "ename": "SyntaxError",
     "evalue": "invalid syntax (<ipython-input-1-82f97d5feb18>, line 4)",
     "output_type": "error",
     "traceback": [
      "\u001b[1;36m  File \u001b[1;32m\"<ipython-input-1-82f97d5feb18>\"\u001b[1;36m, line \u001b[1;32m4\u001b[0m\n\u001b[1;33m    >>>\u001b[0m\n\u001b[1;37m     ^\u001b[0m\n\u001b[1;31mSyntaxError\u001b[0m\u001b[1;31m:\u001b[0m invalid syntax\n"
     ]
    }
   ],
   "source": [
    "import os\n",
    "print(os.getcwd)\n",
    "\n",
    ">>>\n",
    "D:\\python"
   ]
  },
  {
   "cell_type": "markdown",
   "metadata": {},
   "source": [
    "表示目前這個程式所能搜尋的範圍只在這個資料夾底下，使用 os.listdir( )查看，"
   ]
  },
  {
   "cell_type": "code",
   "execution_count": null,
   "metadata": {},
   "outputs": [],
   "source": [
    "print(os.listdir())\n",
    "\n",
    ">>>\n",
    "['000.csv', 'bell_test.py', 'continue.py', 'csv00.py', 'dick.py', 'dict.txt', 'ex1.py', 'ex10.py', 'ex11.py', 'ex13.py''ex15.py', 'ex15_1.py', 'ex16.py', 'ex16.pyc', 'ex18.py', 'ex20.py', 'ex20_1.py', 'ex25.py', 'ex29.py', 'ex3.py', 'ex3.py', 'ex35.py', 'ex35_1.py', 'ex38.py', 'ex39.py', 'ex39_1.py', 'ex39_2.py', 'ex39_2.pyc', 'ex40.py', 'ex5.py', 'ex6.py', 'ex7.py', 'excel_read.py', 'for.py', 'Laser.py', 'learn-python-the-hard-way-cn.pdf', 'm.py', 'matplotlib-2.2.3-cp27-p27m-macosx_10_6_intel.macosx_10_9_intel.macosx_10_9_x86_64.macosx_10_10_intel.macosx_10_10_x86_64.whl', 'matplotlib-2..3-cp27-cp27m-win32.whl', 'matplotlib-2.2.3-cp27-cp27m-win_amd64.whl', 'matplotlib-2.2.3-cp37-cp37m-win32.whl', 'ndarra.py', 'np.py', 'number.py', 'print.py', 'shopee.py', 'test.py', 'test.txt', 'test.xlsx', 'txt_read.py', 'while.py', '__ycache__']"
   ]
  },
  {
   "cell_type": "markdown",
   "metadata": {},
   "source": [
    "那如果我們想輸入的文件不在這個資料夾底下呢，我們得改變路徑，使用 os.chdir，\n",
    "\n",
    "在這裡我就直接把路徑更改到我存放頻譜的資料夾，"
   ]
  },
  {
   "cell_type": "code",
   "execution_count": null,
   "metadata": {},
   "outputs": [],
   "source": [
    "os.chdir(r'D:\\DeskTop\\tuning\\first_measure_1.8W\\Optical Spectrum Analyzer\\User Data\\CSV Data')\n",
    "print(os.getcwd())\n",
    "print(os.listdir())\n",
    "\n",
    ">>>\n",
    "D:\\DeskTop\\tuning\\first_measure_1.8W\\Optical Spectrum Analyzer\\User Data\\CSV Data\n",
    ">>>\n",
    "['WaveData20181008_000.csv', 'WaveData20181008_001.csv', 'WaveData20181213_002.csv', 'WaveData20181213_003.csv', 'WaveData20181213_004.csv', 'WaveData20181213_005.csv', 'WaveData20181213_006.csv', 'WaveData20181213_007.csv', 'WaveData20181213_008.csv', 'WaveData20181213_009.csv', 'WaveData20181213_010.csv', 'WaveData20181213_011.csv', 'WaveData20181213_012.csv', 'WaveData20181213_013.csv', 'WaveData20181213_014.csv',\n",
    "'WaveData20181213_015.csv', 'WaveData20181213_016.csv', 'WaveData20181213_017.csv', 'WaveData20181213_018.csv', 'WaveData20181213_019.csv', 'WaveData20181213_020.csv', 'WaveData20181213_021.csv', 'WaveData20181213_022.csv', 'WaveData20181213_023.csv', 'WaveData20181213_024.csv', 'WaveData20181213_025.csv', 'WaveData20181213_026.csv', 'WaveData20181213_027.csv', 'WaveData20181213_028.csv', 'WaveData20181213_029.csv',\n",
    "'WaveData20181213_030.csv', 'WaveData20181213_031.csv', 'WaveData20181213_032.csv', 'WaveData20181213_033.csv', 'WaveData20181213_034.csv', 'WaveData20181213_035.csv', 'WaveData20181213_036.csv', 'WaveData20181213_037.csv', 'WaveData20181213_038.csv', 'WaveData20181213_039.csv', 'WaveData20181213_040.csv', 'WaveData20181213_041.csv', 'WaveData20181213_042.csv', 'WaveData20181213_043.csv', 'WaveData20181213_044.csv',\n",
    "'WaveData20181213_045.csv', 'WaveData20181213_046.csv', 'WaveData20181213_047.csv', 'WaveData20181213_048.csv', 'WaveData20181213_049.csv', 'WaveData20181213_050.csv', 'WaveData20181213_051.csv', 'WaveData20181213_052.csv', 'WaveData20181213_053.csv', 'WaveData20181213_054.csv', 'WaveData20181213_055.csv', 'WaveData20181213_056.csv', 'WaveData20181213_057.csv', 'WaveData20181213_058.csv', 'WaveData20181213_059.csv',\n",
    "'WaveData20181213_060.csv', 'WaveData20181213_061.csv', 'WaveData20181213_062.csv', 'WaveData20181213_063.csv', 'WaveData20181213_064.csv', 'WaveData20181213_065.csv']"
   ]
  },
  {
   "cell_type": "markdown",
   "metadata": {},
   "source": [
    "目前算是找到了這些檔案的位置，接著得把裡面的資料全部開啟。\n",
    "\n",
    "這裡我使用 os.join 去取得這些檔案的絕對路徑。"
   ]
  },
  {
   "cell_type": "code",
   "execution_count": null,
   "metadata": {},
   "outputs": [],
   "source": [
    "file = test.csv\n",
    "\n",
    "path = r'D:\\DeskTop\\tuning\\first_measure_1.8W\\Optical Spectrum Analyzer\\User Data\\CSV Data'\n",
    "file_path = os.path.join(path, file)\n",
    "\n",
    "print(file_path)\n",
    "\n",
    ">>>\n",
    "D:\\DeskTop\\tuning\\first_measure_1.8W\\Optical Spectrum Analyzer\\User Data\\CSV Data\\test.csv\n",
    "\n",
    "使用 .join的好處是你可以不用去考慮協槓的問題，它會自動幫你產生正確的路徑。\n",
    "\n",
    "接著用 for 迴圈把路經加進去並 open\n",
    "\n",
    "import csv\n",
    "import os\n",
    "\n",
    "path = r'D:\\DeskTop\\tuning\\first_measure_1.8W\\Optical Spectrum Analyzer\\User Data\\CSV Data'\n",
    "os.chdir(path)\n",
    "\n",
    "for file in os.listdir():\n",
    "    file_path = os.path.join(path, file)\n",
    "    with open(file_path, 'r') as csv_file:\n",
    "        csv_reader = csv.reader(csv_file)\n",
    "\n",
    "如此一來就可以開啟全部的csv檔案，接著就可以開始處理數據了。"
   ]
  }
 ],
 "metadata": {
  "kernelspec": {
   "display_name": "Python 3",
   "language": "python",
   "name": "python3"
  },
  "language_info": {
   "codemirror_mode": {
    "name": "ipython",
    "version": 3
   },
   "file_extension": ".py",
   "mimetype": "text/x-python",
   "name": "python",
   "nbconvert_exporter": "python",
   "pygments_lexer": "ipython3",
   "version": "3.7.0"
  }
 },
 "nbformat": 4,
 "nbformat_minor": 2
}
