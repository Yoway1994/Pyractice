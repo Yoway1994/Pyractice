{
 "cells": [
  {
   "cell_type": "markdown",
   "metadata": {},
   "source": [
    "# PTT表特版爬蟲練習\n",
    "---\n",
    "##### 訪問看板之準備流程"
   ]
  },
  {
   "cell_type": "code",
   "execution_count": 10,
   "metadata": {},
   "outputs": [],
   "source": [
    "import re\n",
    "import os\n",
    "import pandas as pd\n",
    "from bs4 import BeautifulSoup\n",
    "from urllib.request import Request, urlopen, urlretrieve\n",
    "\n",
    "http = Request('https://www.ptt.cc/bbs/Beauty/index.html', headers = {'User-Agent': 'Mozilla/5.0'})\n",
    "web = urlopen(http).read().decode('utf-8', 'ignore')\n",
    "soup = BeautifulSoup(web, 'html.parser')"
   ]
  },
  {
   "cell_type": "markdown",
   "metadata": {},
   "source": [
    "##### 定義方程式去擷取分類等資料"
   ]
  },
  {
   "cell_type": "code",
   "execution_count": 11,
   "metadata": {},
   "outputs": [],
   "source": [
    "# 找出所有在頁面上的文章\n",
    "r_ent = soup.find_all('div', {'class': 'r-ent'})"
   ]
  },
  {
   "cell_type": "code",
   "execution_count": 12,
   "metadata": {},
   "outputs": [],
   "source": [
    "# 抓分類, 網址\n",
    "def get_article(lines):\n",
    "    article = lines.find('div', {'class': 'title'})\n",
    "    p_cla = re.compile('\\[.*?\\]') # 分類的正則表達式\n",
    "    cf = re.search(p_cla, article.a.string).group() # 這是分類\n",
    "    url = article.a['href'] # 文章網址\n",
    "    return cf, url\n"
   ]
  },
  {
   "cell_type": "code",
   "execution_count": 13,
   "metadata": {},
   "outputs": [],
   "source": [
    "# 抓推文數\n",
    "def get_push(lines):\n",
    "    push = lines.find('div', {'class': 'nrec'}).span\n",
    "    if push:\n",
    "        return push.text\n",
    "    else: # 推文數0並不會顯示在網頁上\n",
    "        return 0"
   ]
  },
  {
   "cell_type": "code",
   "execution_count": 14,
   "metadata": {},
   "outputs": [],
   "source": [
    "# 抓作者\n",
    "def get_author(lines):\n",
    "    author = lines.find('div', {'class': 'author'}).text\n",
    "    return author"
   ]
  },
  {
   "cell_type": "code",
   "execution_count": 15,
   "metadata": {},
   "outputs": [],
   "source": [
    "#檢查有沒有重複\n",
    "def check_url(url):\n",
    "    path = 'D:\\python\\ptt_website'\n",
    "    os.chdir(path)\n",
    "    filename = 'Beauty.csv'\n",
    "    with open(filename, 'r',  encoding = 'utf-8') as check_book:\n",
    "        url_list = pd.read_csv(check_book)['url']\n",
    "        if url in url_list.values:\n",
    "            return True\n",
    "        else:\n",
    "            return False"
   ]
  },
  {
   "cell_type": "code",
   "execution_count": 16,
   "metadata": {},
   "outputs": [],
   "source": [
    "# 抓取圖片並產生更新後的資料\n",
    "def get_figure(url):\n",
    "    new = {}\n",
    "    new['url'] = url\n",
    "    pic_url = []\n",
    "    web = 'https://www.ptt.cc' + url\n",
    "    http = Request(web, headers = {'User-Agent': 'Mozilla/5.0'})\n",
    "    web = urlopen(http).read().decode('utf-8', 'ignore')\n",
    "    soup = BeautifulSoup(web, 'html.parser')\n",
    "    main = soup.find('div', {'id':'main-content'})\n",
    "    pic = ['.jepg', '.jpg', '.gif', '.png']\n",
    "    for i, lines in enumerate(main.stripped_strings):\n",
    "        if '※' in lines: #把簽名檔以下的文去掉\n",
    "            break\n",
    "        elif i == 7: #存取時間\n",
    "            time = pd.to_datetime(lines, format = '%a %b %d %H:%M:%S %Y')\n",
    "            new['time'] = time\n",
    "        elif i == 5: #存取標題\n",
    "            new['article'] = lines\n",
    "        elif any(f in lines for f in pic): \n",
    "            pic_url.append(lines)\n",
    "        elif 'imgur.com' in lines:\n",
    "            jpg = lines + '.jpg'\n",
    "            pic_url.append(lines)\n",
    "        else:\n",
    "            pass\n",
    "    #創資料夾存圖片\n",
    "    path = 'D:\\python\\ptt_website'\n",
    "    folder = new['article']\n",
    "    f_path = os.path.join(path, folder)\n",
    "    if os.path.exists(f_path):\n",
    "        pass\n",
    "    else:\n",
    "        os.mkdir(f_path)\n",
    "    os.chdir(f_path)\n",
    "    #開始存圖\n",
    "    for i, url in enumerate(pic_url):\n",
    "        try:\n",
    "            urlretrieve(url, '%s.jpg' % i)\n",
    "        except ValueError:\n",
    "            print(url)\n",
    "            \n",
    "    return new"
   ]
  },
  {
   "cell_type": "code",
   "execution_count": 17,
   "metadata": {},
   "outputs": [],
   "source": [
    "#用來輸入更新後的url\n",
    "def save_url(new):\n",
    "    path = 'D:\\python\\ptt_website'\n",
    "    os.chdir(path)\n",
    "    filename = 'Beauty.csv'\n",
    "    with open(filename, 'r', encoding = 'utf-8') as data:\n",
    "        df = pd.read_csv(data)\n",
    "        df = df.append(new, ignore_index = True)\n",
    "        df.to_csv(filename)"
   ]
  },
  {
   "cell_type": "markdown",
   "metadata": {},
   "source": [
    "##### 檢查分類"
   ]
  },
  {
   "cell_type": "code",
   "execution_count": 18,
   "metadata": {
    "scrolled": true
   },
   "outputs": [
    {
     "name": "stdout",
     "output_type": "stream",
     "text": [
      "{'url': '/bbs/Beauty/M.1550131169.A.D56.html', 'article': '[正妹] 合法蘿莉', 'time': Timestamp('2019-02-14 15:59:25')}\n"
     ]
    },
    {
     "ename": "NotADirectoryError",
     "evalue": "[WinError 267] 目錄名稱無效。: 'D:\\\\python\\\\ptt_website\\\\Re: [正妹] 日本啦啦隊妹子'",
     "output_type": "error",
     "traceback": [
      "\u001b[1;31m---------------------------------------------------------------------------\u001b[0m",
      "\u001b[1;31mNotADirectoryError\u001b[0m                        Traceback (most recent call last)",
      "\u001b[1;32m<ipython-input-18-391e990661fb>\u001b[0m in \u001b[0;36m<module>\u001b[1;34m\u001b[0m\n\u001b[0;32m      5\u001b[0m             \u001b[1;32mpass\u001b[0m\u001b[1;33m\u001b[0m\u001b[0m\n\u001b[0;32m      6\u001b[0m         \u001b[1;32melse\u001b[0m\u001b[1;33m:\u001b[0m \u001b[1;31m# 開始抓圖跟讀寫\u001b[0m\u001b[1;33m\u001b[0m\u001b[0m\n\u001b[1;32m----> 7\u001b[1;33m             \u001b[0mnew_url\u001b[0m \u001b[1;33m=\u001b[0m \u001b[0mget_figure\u001b[0m\u001b[1;33m(\u001b[0m\u001b[0murl\u001b[0m\u001b[1;33m)\u001b[0m\u001b[1;33m\u001b[0m\u001b[0m\n\u001b[0m\u001b[0;32m      8\u001b[0m             \u001b[0mprint\u001b[0m\u001b[1;33m(\u001b[0m\u001b[0mnew_url\u001b[0m\u001b[1;33m)\u001b[0m\u001b[1;33m\u001b[0m\u001b[0m\n\u001b[0;32m      9\u001b[0m             \u001b[0msave_url\u001b[0m\u001b[1;33m(\u001b[0m\u001b[0mnew_url\u001b[0m\u001b[1;33m)\u001b[0m\u001b[1;33m\u001b[0m\u001b[0m\n",
      "\u001b[1;32m<ipython-input-16-47e1606b86b3>\u001b[0m in \u001b[0;36mget_figure\u001b[1;34m(url)\u001b[0m\n\u001b[0;32m     32\u001b[0m         \u001b[1;32mpass\u001b[0m\u001b[1;33m\u001b[0m\u001b[0m\n\u001b[0;32m     33\u001b[0m     \u001b[1;32melse\u001b[0m\u001b[1;33m:\u001b[0m\u001b[1;33m\u001b[0m\u001b[0m\n\u001b[1;32m---> 34\u001b[1;33m         \u001b[0mos\u001b[0m\u001b[1;33m.\u001b[0m\u001b[0mmkdir\u001b[0m\u001b[1;33m(\u001b[0m\u001b[0mf_path\u001b[0m\u001b[1;33m)\u001b[0m\u001b[1;33m\u001b[0m\u001b[0m\n\u001b[0m\u001b[0;32m     35\u001b[0m     \u001b[0mos\u001b[0m\u001b[1;33m.\u001b[0m\u001b[0mchdir\u001b[0m\u001b[1;33m(\u001b[0m\u001b[0mf_path\u001b[0m\u001b[1;33m)\u001b[0m\u001b[1;33m\u001b[0m\u001b[0m\n\u001b[0;32m     36\u001b[0m     \u001b[1;31m#開始存圖\u001b[0m\u001b[1;33m\u001b[0m\u001b[1;33m\u001b[0m\u001b[0m\n",
      "\u001b[1;31mNotADirectoryError\u001b[0m: [WinError 267] 目錄名稱無效。: 'D:\\\\python\\\\ptt_website\\\\Re: [正妹] 日本啦啦隊妹子'"
     ]
    }
   ],
   "source": [
    "for i in r_ent:\n",
    "    if i.a and get_article(i)[0] == '[正妹]':\n",
    "        url = get_article(i)[1]\n",
    "        if check_url(url): # 如果 check_url = True 就會終止並待機\n",
    "            pass\n",
    "        else: # 開始抓圖跟讀寫      \n",
    "            new_url = get_figure(url)\n",
    "            print(new_url)\n",
    "            save_url(new_url)"
   ]
  }
 ],
 "metadata": {
  "kernelspec": {
   "display_name": "Python 3",
   "language": "python",
   "name": "python3"
  },
  "language_info": {
   "codemirror_mode": {
    "name": "ipython",
    "version": 3
   },
   "file_extension": ".py",
   "mimetype": "text/x-python",
   "name": "python",
   "nbconvert_exporter": "python",
   "pygments_lexer": "ipython3",
   "version": "3.7.0"
  }
 },
 "nbformat": 4,
 "nbformat_minor": 2
}
