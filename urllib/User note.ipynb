{
 "cells": [
  {
   "cell_type": "markdown",
   "metadata": {},
   "source": [
    "2018/11/05\n",
    "\n",
    "嘗試練習用python做網頁爬蟲，一開始先使用這個模組抓取一些網頁原始碼。\n",
    "\n",
    "在這裡我隨意找了google作為範例，我們先用urlopen對網頁進行開啟，之後再用read將其作為字串讀出，\n",
    "\n",
    "由於大部分有中文內容，所以對其進行utf-8解碼，使用decode語法。"
   ]
  },
  {
   "cell_type": "code",
   "execution_count": 2,
   "metadata": {},
   "outputs": [
    {
     "ename": "UnicodeDecodeError",
     "evalue": "'utf-8' codec can't decode byte 0xb7 in position 5437: invalid start byte",
     "output_type": "error",
     "traceback": [
      "\u001b[1;31m---------------------------------------------------------------------------\u001b[0m",
      "\u001b[1;31mUnicodeDecodeError\u001b[0m                        Traceback (most recent call last)",
      "\u001b[1;32m<ipython-input-2-4a18229cb1e4>\u001b[0m in \u001b[0;36m<module>\u001b[1;34m\u001b[0m\n\u001b[0;32m      1\u001b[0m \u001b[1;32mfrom\u001b[0m \u001b[0murllib\u001b[0m\u001b[1;33m.\u001b[0m\u001b[0mrequest\u001b[0m \u001b[1;32mimport\u001b[0m \u001b[0murlopen\u001b[0m\u001b[1;33m\u001b[0m\u001b[0m\n\u001b[0;32m      2\u001b[0m \u001b[1;33m\u001b[0m\u001b[0m\n\u001b[1;32m----> 3\u001b[1;33m \u001b[0mhtml\u001b[0m \u001b[1;33m=\u001b[0m \u001b[0murlopen\u001b[0m\u001b[1;33m(\u001b[0m\u001b[1;34m'https://www.google.com.tw/'\u001b[0m\u001b[1;33m)\u001b[0m\u001b[1;33m.\u001b[0m\u001b[0mread\u001b[0m\u001b[1;33m(\u001b[0m\u001b[1;33m)\u001b[0m\u001b[1;33m.\u001b[0m\u001b[0mdecode\u001b[0m\u001b[1;33m(\u001b[0m\u001b[1;34m'utf-8'\u001b[0m\u001b[1;33m)\u001b[0m\u001b[1;33m\u001b[0m\u001b[0m\n\u001b[0m\u001b[0;32m      4\u001b[0m \u001b[0mprint\u001b[0m\u001b[1;33m(\u001b[0m\u001b[0mhtml\u001b[0m\u001b[1;33m)\u001b[0m\u001b[1;33m\u001b[0m\u001b[0m\n",
      "\u001b[1;31mUnicodeDecodeError\u001b[0m: 'utf-8' codec can't decode byte 0xb7 in position 5437: invalid start byte"
     ]
    }
   ],
   "source": [
    "from urllib.request import urlopen\n",
    "\n",
    "html = urlopen('https://www.google.com.tw/').read().decode('utf-8')\n",
    "print(html)"
   ]
  },
  {
   "cell_type": "markdown",
   "metadata": {},
   "source": [
    "\n",
    "UnicodeDecodeError: 'utf-8' codec can't decode byte 0xb7 in position 5329: invalid start byte\n",
    "\n",
    "不知道為何無法decode特定位置的編碼，所以我決定忽略它，加個 'ignore'"
   ]
  },
  {
   "cell_type": "code",
   "execution_count": 5,
   "metadata": {},
   "outputs": [],
   "source": [
    "html = urlopen('https://www.google.com.tw/').read().decode('utf-8', 'ignore')"
   ]
  },
  {
   "cell_type": "markdown",
   "metadata": {},
   "source": [
    "接著我想要擷取這個網頁的標題，在html的架構下，編碼通常被< title> < /title>給框住，\n",
    "\n",
    "這時候使用re.search正則表達的語法，\n",
    "    \n",
    "title = < title>(.+?)< /title>\n",
    "\n",
    "'.' 表示除了換行'\\n'以外的任意字符，'+'表示一次以上，'?' 表示盡可能匹配成最少的字符"
   ]
  },
  {
   "cell_type": "code",
   "execution_count": 7,
   "metadata": {},
   "outputs": [
    {
     "name": "stdout",
     "output_type": "stream",
     "text": [
      "<re.Match object; span=(251, 272), match='<title>Google</title>'>\n"
     ]
    }
   ],
   "source": [
    "import re\n",
    "from urllib.request import urlopen\n",
    "\n",
    "html = urlopen('https://www.google.com.tw/').read().decode('UTF-8', 'ignore')\n",
    "title = '<title>(.+?)</title>'\n",
    "\n",
    "print(re.search(title, html))"
   ]
  },
  {
   "cell_type": "markdown",
   "metadata": {},
   "source": [
    "我們擷取到了網頁標題 match='< title>Google< /title>' 。\n",
    "\n",
    "html語法內還有一個表達段落的，\n",
    "\n",
    "paragraph = < p>(.*?)< /p>\n",
    "\n",
    "但大部分網站結果都不多，可能要找一些網路文章的網頁比較適合。\n",
    "\n",
    "html語法中，表示超連結的為 href=\"url\"，"
   ]
  },
  {
   "cell_type": "code",
   "execution_count": 8,
   "metadata": {},
   "outputs": [
    {
     "name": "stdout",
     "output_type": "stream",
     "text": [
      "<re.Match object; span=(5424, 5478), match='href=\"https://www.google.com.tw/imghp?hl=zh-TW&ta>\n"
     ]
    }
   ],
   "source": [
    "import re\n",
    "from urllib.request import urlopen\n",
    "html = urlopen('https://www.google.com.tw').read().decode('UTF-8', 'ignore')\n",
    "url = 'href=\"(.*?)\"'\n",
    "print(re.search(url, html))"
   ]
  },
  {
   "cell_type": "markdown",
   "metadata": {},
   "source": [
    "只有找一個google image的超連結。所以我們用re.findall語法來抓出所有連結，"
   ]
  },
  {
   "cell_type": "code",
   "execution_count": 9,
   "metadata": {},
   "outputs": [
    {
     "name": "stdout",
     "output_type": "stream",
     "text": [
      "['https://www.google.com.tw/imghp?hl=zh-TW&tab=wi', 'https://maps.google.com.tw/maps?hl=zh-TW&tab=wl', 'https://play.google.com/?hl=zh-TW&tab=w8', 'https://www.youtube.com/?gl=TW&tab=w1', 'https://news.google.com.tw/nwshp?hl=zh-TW&tab=wn', 'https://mail.google.com/mail/?tab=wm', 'https://drive.google.com/?tab=wo', 'https://www.google.com.tw/intl/zh-TW/about/products?tab=wh', 'http://www.google.com.tw/history/optout?hl=zh-TW', '/preferences?hl=zh-TW', 'https://accounts.google.com/ServiceLogin?hl=zh-TW&passive=true&continue=https://www.google.com.tw/', '/advanced_search?hl=zh-TW&amp;authuser=0', '/language_tools?hl=zh-TW&amp;authuser=0', '/intl/zh-TW/ads/', 'http://www.google.com.tw/intl/zh-TW/services/', '/intl/zh-TW/about.html', 'https://www.google.com.tw/setprefdomain?prefdom=US&amp;sig=K_gvKMV9shuCWbP4h1zl7fsdqS5qU%3D', '/intl/zh-TW/policies/privacy/', '/intl/zh-TW/policies/terms/']\n"
     ]
    }
   ],
   "source": [
    "import re\n",
    "from urllib.request import urlopen\n",
    "html = urlopen('https://www.google.com.tw').read().decode('UTF-8', 'ignore')\n",
    "url = 'href=\"(.*?)\"'\n",
    "print(re.findall(url, html))"
   ]
  },
  {
   "cell_type": "markdown",
   "metadata": {},
   "source": [
    "這就是google首頁所有超連結的網址。"
   ]
  },
  {
   "cell_type": "markdown",
   "metadata": {},
   "source": [
    "2018/12/09\n",
    "\n",
    "這次嘗試使用爬蟲抓取ptt上的網頁內容，但遇到一個問題，\n",
    "\n",
    "ptt上的網址基本上有禁止爬蟲行為的防治方式，解決辦法是使用一個 User Agent 繞過去，"
   ]
  },
  {
   "cell_type": "code",
   "execution_count": 11,
   "metadata": {},
   "outputs": [],
   "source": [
    "from urllib.request import Request, urlopen\n",
    "\n",
    "http = Request('https://www.ptt.cc/bbs/Steam/index.html', headers={'User-Agent': 'Mozilla/5.0'})\n",
    "web = urlopen(http).read().decode('utf-8', 'ignore')"
   ]
  }
 ],
 "metadata": {
  "kernelspec": {
   "display_name": "Python 3",
   "language": "python",
   "name": "python3"
  },
  "language_info": {
   "codemirror_mode": {
    "name": "ipython",
    "version": 3
   },
   "file_extension": ".py",
   "mimetype": "text/x-python",
   "name": "python",
   "nbconvert_exporter": "python",
   "pygments_lexer": "ipython3",
   "version": "3.7.0"
  }
 },
 "nbformat": 4,
 "nbformat_minor": 2
}
